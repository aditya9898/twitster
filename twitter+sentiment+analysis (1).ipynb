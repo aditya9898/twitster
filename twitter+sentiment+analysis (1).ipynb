{
 "cells": [
  {
   "cell_type": "markdown",
   "metadata": {
    "collapsed": true
   },
   "source": [
    "### First import the libraries required to fetch and work with real time twitter data:\n",
    "### tweepy....\n",
    "### And to analyse these tweets:\n",
    "### textblob"
   ]
  },
  {
   "cell_type": "code",
   "execution_count": null,
   "metadata": {
    "collapsed": true
   },
   "outputs": [],
   "source": [
    "import tweepy\n",
    "from textblob import TextBlob"
   ]
  },
  {
   "cell_type": "markdown",
   "metadata": {},
   "source": [
    "### Then you have to make an api on twitter which will give you access to the following:"
   ]
  },
  {
   "cell_type": "code",
   "execution_count": 40,
   "metadata": {
    "collapsed": true
   },
   "outputs": [],
   "source": [
    "consumer_key='INSERT YOUR OWN'\n",
    "consumer_secret='INSERT YOUR OWN'\n",
    "access_token='INSERT YOUR OWN'\n",
    "access_token_secret='INSERT YOUR OWN'"
   ]
  },
  {
   "cell_type": "code",
   "execution_count": 5,
   "metadata": {},
   "outputs": [],
   "source": [
    "auth=tweepy.OAuthHandler(consumer_key,consumer_secret)\n",
    "auth.set_access_token(access_token,access_token_secret)"
   ]
  },
  {
   "cell_type": "code",
   "execution_count": 6,
   "metadata": {
    "collapsed": true
   },
   "outputs": [],
   "source": [
    "api=tweepy.API(auth)"
   ]
  },
  {
   "cell_type": "markdown",
   "metadata": {},
   "source": [
    "### This code uses the API method of tweepy to search for and list out the top tweets having the keayword that we feed it with."
   ]
  },
  {
   "cell_type": "code",
   "execution_count": 36,
   "metadata": {},
   "outputs": [],
   "source": [
    "keyword='India'\n",
    "public_tweets=api.search(keyword)"
   ]
  },
  {
   "cell_type": "markdown",
   "metadata": {},
   "source": [
    "### Looping through the tweets collected and analysing each tweet with the help of TextBlob.\n",
    "### TextBlob(text).sentiment.polarity outputs on a scale of -1 to 1 the polarity of the text with -1 being sad,negative and 1 being happy,positive."
   ]
  },
  {
   "cell_type": "code",
   "execution_count": 37,
   "metadata": {
    "collapsed": true
   },
   "outputs": [],
   "source": [
    "pos=0\n",
    "neg=0"
   ]
  },
  {
   "cell_type": "code",
   "execution_count": 38,
   "metadata": {},
   "outputs": [
    {
     "name": "stdout",
     "output_type": "stream",
     "text": [
      "RT @TerryGlavin: After an aimless eight-day procession of gaucherie, diplomatic outrage and burlesque fiasco across the length and breadth…\n",
      "POSITIVE\n",
      "RT @Responsible_Biz: Five ways #India must help its #farmers face the threat of #climatechange via @_TCGlobal #SDGs #SDGAction #Sustainable…\n",
      "POSITIVE\n",
      "RT @brianlilley: I’ve never seen such a disaster diplomatically. @JustinTrudeau continues to claim that India set him up by having him invi…\n",
      "POSITIVE\n",
      "RT @_SwarajIndia: \"Thousands of youth who are taking on the corruption in SSC and government jobs through these protests are actually creat…\n",
      "POSITIVE\n",
      "The latest The travel Daily! https://t.co/QxVus5EIB7 Thanks to @Mi_Kuhn #travel #india\n",
      "POSITIVE\n",
      "RT @rajshah: I'm excited to share new tech and approaches that are powering rural India. Check them out: https://t.co/UisWlFw1cK https://t.…\n",
      "POSITIVE\n",
      "I have 217 new followers from USA, Brazil, India, and more last week. See https://t.co/FRMP6Y7nVX https://t.co/FJNDleJSAN\n",
      "POSITIVE\n",
      "RT @Athirakishor1: I have Great news to u guys...Some days back I messaged Baarc India requesting to consider online TRPs. see the reply I…\n",
      "POSITIVE\n",
      "RT @gchahal: Just want to say thank you to my partners @netsolutions &amp; Rockstar CEO @sameer__jain in India whom I've worked with personally…\n",
      "POSITIVE\n",
      "RT @CandiceMalcolm: I'm joining @WIONews in India NEXT to discuss this story. If you live in India, tune in! Otherwise, I'll post the inter…\n",
      "POSITIVE\n",
      "RT @news24tvchannel: भारत के ड्रोन रुस्तम-2 से कांपा पाकिस्तान, दुश्मन पर ऐसे बरसाएगा कहर #Pakistan #India #dronetechnology https://t.co/mq…\n",
      "POSITIVE\n",
      "I have 1 new followers from India last week. See https://t.co/s0nTtle6UW https://t.co/rVjUDFCNQ0\n",
      "POSITIVE\n",
      "RT @JohnWrightLive: The Government of India responds to Justin Trudeau's assertions in the H of C yesterday and call him a liar. I have nev…\n",
      "POSITIVE\n",
      "@BJP4India @narendramodi Nothing is happening as such... just discriminating India based on religion\n",
      "POSITIVE\n",
      "RT @orayssasalgado: Porquinho da Índia ❤️: Amiga temos que arrumar um boy\n",
      "Porquinho da Índia ❤️: 🤦🏽‍♀\n",
      "Rayssa Salgado 💀: Temos q passar em c…\n",
      "POSITIVE\n"
     ]
    }
   ],
   "source": [
    "for tweet in public_tweets:\n",
    "    print(tweet.text)\n",
    "    analysis=TextBlob(tweet.text)\n",
    "    pol=analysis.sentiment.polarity\n",
    "    if pol>=0:\n",
    "        print('POSITIVE')\n",
    "        pos+=1\n",
    "    else:\n",
    "        print('NEGATIVE')\n",
    "        neg+=1"
   ]
  },
  {
   "cell_type": "markdown",
   "metadata": {},
   "source": [
    "### COUNTING THE POLARITY OF ALL THE TWEETS AND FINDING OVERALL POSITIVE/NEGATIVE TWEETS"
   ]
  },
  {
   "cell_type": "code",
   "execution_count": 39,
   "metadata": {},
   "outputs": [
    {
     "name": "stdout",
     "output_type": "stream",
     "text": [
      "OVERALL POSITIVE\n"
     ]
    }
   ],
   "source": [
    "if pos>=neg:\n",
    "    print('OVERALL POSITIVE')\n",
    "else:\n",
    "    print('OVERALL NEGATIVE')"
   ]
  },
  {
   "cell_type": "code",
   "execution_count": null,
   "metadata": {
    "collapsed": true
   },
   "outputs": [],
   "source": []
  }
 ],
 "metadata": {
  "kernelspec": {
   "display_name": "Python 3",
   "language": "python",
   "name": "python3"
  },
  "language_info": {
   "codemirror_mode": {
    "name": "ipython",
    "version": 3
   },
   "file_extension": ".py",
   "mimetype": "text/x-python",
   "name": "python",
   "nbconvert_exporter": "python",
   "pygments_lexer": "ipython3",
   "version": "3.6.1"
  }
 },
 "nbformat": 4,
 "nbformat_minor": 2
}
